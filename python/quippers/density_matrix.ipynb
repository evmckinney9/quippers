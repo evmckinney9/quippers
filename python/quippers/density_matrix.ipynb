{
 "cells": [
  {
   "attachments": {},
   "cell_type": "markdown",
   "metadata": {},
   "source": [
    "1. Identify by inspection and give reasons why the following \n",
    "density matrices are pure states or not. Note: also check to make they’re physical/well formed and comment on that as well.  Then confirm mathematically using a basis-independent measure.  You may have issues with machine precision; where numbers may be irrational I’ve rounded in the 5th decimal place. "
   ]
  },
  {
   "cell_type": "code",
   "execution_count": 95,
   "metadata": {},
   "outputs": [
    {
     "name": "stdout",
     "output_type": "stream",
     "text": [
      "(1+0j)\n",
      "(0.9558579999999999+0j)\n"
     ]
    }
   ],
   "source": [
    "import qutip\n",
    "import numpy as np\n",
    "rho_1 = qutip.Qobj([[1/6, np.sqrt(2)/6 * np.exp(1j*.777), np.sqrt(3)/6], [np.sqrt(2)/6 * np.exp(-1j*.777), 2/6,  1/np.sqrt(6) * np.exp(-1j*3.14)], [np.sqrt(3)/6, 1/np.sqrt(6) * np.exp(1j*3.14), 3/6]])\n",
    "\n",
    "# check purity using trace(rho^2)\n",
    "print(np.trace(rho_1*rho_1))\n",
    "\n",
    "rho_2 = qutip.Qobj([[.273, .42*np.exp(-1j*np.pi/8)], [.42*np.exp(1j*np.pi/8), .727]])\n",
    "\n",
    "# check purity using trace(rho^2)\n",
    "print(np.trace(rho_2*rho_2))"
   ]
  },
  {
   "attachments": {},
   "cell_type": "markdown",
   "metadata": {},
   "source": [
    "2. Take the density matrix for 1B and calculate its Bloch Vector coordinates. How does this representation confirm what you decided about 1b in the previous problem?"
   ]
  },
  {
   "cell_type": "code",
   "execution_count": 47,
   "metadata": {},
   "outputs": [
    {
     "name": "stdout",
     "output_type": "stream",
     "text": [
      "(0.7760588073094808+0j) (0.3214540831866754+0j) (-0.45399999999999996+0j)\n",
      "(0.9548382061899282+0j)\n"
     ]
    }
   ],
   "source": [
    "import numpy as np\n",
    "import qutip\n",
    "# define the density matrix\n",
    "rho = qutip.Qobj([[.273, .42*np.exp(-1j * np.pi/8)], [.42*np.exp(1j * np.pi/8), .727]])\n",
    "\n",
    "# get the bloch vector coordinates using tr(rho * sigma)\n",
    "x = np.trace(rho * qutip.sigmax())\n",
    "y = np.trace(rho * qutip.sigmay())\n",
    "z = np.trace(rho * qutip.sigmaz())\n",
    "\n",
    "print(x, y, z)\n",
    "\n",
    "# get the length of the vector\n",
    "r = np.sqrt(x**2 + y**2 + z**2)\n",
    "print(r)\n",
    "\n",
    "# magnitude of the vector is < 1 so is impure"
   ]
  },
  {
   "attachments": {},
   "cell_type": "markdown",
   "metadata": {},
   "source": [
    "3. For each bell state, find the reduced density operator for each qubit, and comment on their purities"
   ]
  },
  {
   "cell_type": "code",
   "execution_count": 39,
   "metadata": {},
   "outputs": [
    {
     "name": "stdout",
     "output_type": "stream",
     "text": [
      "Reduced density operator qubit 1\n",
      " [[0.5+0.j 0. +0.j]\n",
      " [0. +0.j 0.5+0.j]]\n",
      "Reduced density operator qubit 2\n",
      " [[0.5+0.j 0. +0.j]\n",
      " [0. +0.j 0.5+0.j]]\n",
      "Purity of rho_1:  (0.4999999999999998+0j)\n",
      "Purity of rho_2:  (0.4999999999999998+0j)\n",
      "Reduced density operator qubit 1\n",
      " [[0.5+0.j 0. +0.j]\n",
      " [0. +0.j 0.5+0.j]]\n",
      "Reduced density operator qubit 2\n",
      " [[0.5+0.j 0. +0.j]\n",
      " [0. +0.j 0.5+0.j]]\n",
      "Purity of rho_1:  (0.4999999999999998+0j)\n",
      "Purity of rho_2:  (0.4999999999999998+0j)\n",
      "Reduced density operator qubit 1\n",
      " [[0.5+0.j 0. +0.j]\n",
      " [0. +0.j 0.5+0.j]]\n",
      "Reduced density operator qubit 2\n",
      " [[0.5+0.j 0. +0.j]\n",
      " [0. +0.j 0.5+0.j]]\n",
      "Purity of rho_1:  (0.4999999999999998+0j)\n",
      "Purity of rho_2:  (0.4999999999999998+0j)\n",
      "Reduced density operator qubit 1\n",
      " [[0.5+0.j 0. +0.j]\n",
      " [0. +0.j 0.5+0.j]]\n",
      "Reduced density operator qubit 2\n",
      " [[0.5+0.j 0. +0.j]\n",
      " [0. +0.j 0.5+0.j]]\n",
      "Purity of rho_1:  (0.4999999999999998+0j)\n",
      "Purity of rho_2:  (0.4999999999999998+0j)\n"
     ]
    }
   ],
   "source": [
    "from numpy import trace\n",
    "import qutip\n",
    "\n",
    "# Define the bell states\n",
    "bell_states = [qutip.bell_state('00'), qutip.bell_state('01'), qutip.bell_state('10'), qutip.bell_state('11')]\n",
    "\n",
    "# Loop over the bell states\n",
    "for bell_state in bell_states:\n",
    "    # Compute the reduced density matrix for each qubit\n",
    "    rho_1 = qutip.ptrace(bell_state * bell_state.dag(), [0])\n",
    "    print('Reduced density operator qubit 1\\n', rho_1.full())\n",
    "    print('Reduced density operator qubit 2\\n', rho_2.full())\n",
    "    rho_2 = qutip.ptrace(bell_state * bell_state.dag(), [1])\n",
    "    # Compute the purity of the reduced density matrix for each qubit using trace of rho^2\n",
    "    purity_1 = trace(rho_1**2)\n",
    "    purity_2 = trace(rho_2**2)\n",
    "    # Print the purity of the reduced density matrix for each qubit\n",
    "    print('Purity of rho_1: ', purity_1)\n",
    "    print('Purity of rho_2: ', purity_2)"
   ]
  },
  {
   "attachments": {},
   "cell_type": "markdown",
   "metadata": {},
   "source": [
    "4. The state $$|\\psi\\rangle = \\sqrt{\\frac{1}{6}} |0_10_21_3\\rangle - i \\sqrt{\\frac{1}{6}} |1_10_20_3\\rangle - \\sqrt{\\frac{2}{6}}|0_11_21_3\\rangle + i \\sqrt{\\frac{2}{6}}|1_11_20_3\\rangle$$ is a partially separable state of three qubits. Use partial traces over 1 qubit at a time to identify which qubit is separable from the other two and write the state as a tensor product. Please use subscripts as above in your answer to keep clear which states are indciated by which kets constitutents . This problem really benefits from a computer aid. "
   ]
  },
  {
   "cell_type": "code",
   "execution_count": 73,
   "metadata": {},
   "outputs": [
    {
     "name": "stdout",
     "output_type": "stream",
     "text": [
      "Quantum object: dims = [[2, 2, 2], [1, 1, 1]], shape = (8, 1), type = ket\n",
      "Qobj data =\n",
      "[[ 0.        +0.j        ]\n",
      " [ 0.40824829+0.j        ]\n",
      " [ 0.        +0.j        ]\n",
      " [-0.57735027+0.j        ]\n",
      " [ 0.        -0.40824829j]\n",
      " [ 0.        +0.j        ]\n",
      " [ 0.        +0.57735027j]\n",
      " [ 0.        +0.j        ]]\n",
      "Reduced density operator qubit 1\n",
      " [[ 0.16666667+0.j -0.23570226+0.j  0.        +0.j  0.        +0.j]\n",
      " [-0.23570226+0.j  0.33333333+0.j  0.        +0.j  0.        +0.j]\n",
      " [ 0.        +0.j  0.        +0.j  0.16666667+0.j -0.23570226+0.j]\n",
      " [ 0.        +0.j  0.        +0.j -0.23570226+0.j  0.33333333+0.j]]\n",
      "Purity of rho_1:  (0.5+0j)\n",
      "Reduced density operator qubit 2\n",
      " [[ 0.16666667+0.j  0.        +0.j -0.23570226+0.j  0.        +0.j]\n",
      " [ 0.        +0.j  0.16666667+0.j  0.        +0.j -0.23570226+0.j]\n",
      " [-0.23570226+0.j  0.        +0.j  0.33333333+0.j  0.        +0.j]\n",
      " [ 0.        +0.j -0.23570226+0.j  0.        +0.j  0.33333333+0.j]]\n",
      "Purity of rho_2:  (0.5+0j)\n",
      "Reduced density operator qubit 3\n",
      " [[0. +0.j  0. +0.j  0. +0.j  0. +0.j ]\n",
      " [0. +0.j  0.5+0.j  0. +0.5j 0. +0.j ]\n",
      " [0. +0.j  0. -0.5j 0.5+0.j  0. +0.j ]\n",
      " [0. +0.j  0. +0.j  0. +0.j  0. +0.j ]]\n",
      "Purity of rho_3:  (1+0j)\n"
     ]
    }
   ],
   "source": [
    "import numpy as np\n",
    "import qutip\n",
    "\n",
    "# first build the 3 qubit state using the vector\n",
    "psi = qutip.Qobj([[0, np.sqrt(1/6), 0, -np.sqrt(2/6), +1j*np.sqrt(1/6), 0, -1j*np.sqrt(2/6), 0]], dims=[[1,1,1],[2,2,2]]).dag()\n",
    "\n",
    "print(psi)\n",
    "\n",
    "# now compute the reduced density matrix for the first qubit\n",
    "rho_1 = qutip.ptrace(psi * psi.dag(), [0,1])\n",
    "print('Reduced density operator qubit 1\\n', rho_1.full())\n",
    "\n",
    "# print the purity of the reduced density matrix for the first qubit traced out\n",
    "purity_1 = np.trace(rho_1**2)\n",
    "print('Purity of rho_1: ', purity_1)\n",
    "\n",
    "# # now compute the reduced density matrix for the second qubit\n",
    "rho_2 = qutip.ptrace(psi * psi.dag(), [1,2])\n",
    "print('Reduced density operator qubit 2\\n', rho_2.full())\n",
    "\n",
    "# print the purity of the reduced density matrix for the second qubit traced out\n",
    "purity_2 = np.trace(rho_2**2)\n",
    "print('Purity of rho_2: ', purity_2)\n",
    "\n",
    "# # now compute the reduced density matrix for the third qubit\n",
    "rho_3 = qutip.ptrace(psi * psi.dag(), [0,2])\n",
    "print('Reduced density operator qubit 3\\n', rho_3.full())\n",
    "\n",
    "# print the purity of the reduced density matrix for the third qubit traced out\n",
    "purity_3 = np.trace(rho_3**2)\n",
    "print('Purity of rho_3: ', purity_3)\n",
    "\n",
    "# find that qubit 1 can be traced out and get a pure state\n",
    "# thus the separable state is found by rho_3"
   ]
  },
  {
   "attachments": {},
   "cell_type": "markdown",
   "metadata": {},
   "source": [
    "5. Construct the projective measurement whose eigenstates are those of the Hadamard operator."
   ]
  },
  {
   "cell_type": "code",
   "execution_count": 83,
   "metadata": {},
   "outputs": [
    {
     "name": "stdout",
     "output_type": "stream",
     "text": [
      "[Quantum object: dims = [[2], [1]], shape = (2, 1), type = ket\n",
      " Qobj data =\n",
      " [[ 0.38268343]\n",
      "  [-0.92387953]]\n",
      " Quantum object: dims = [[2], [1]], shape = (2, 1), type = ket\n",
      " Qobj data =\n",
      " [[-0.92387953]\n",
      "  [-0.38268343]]                                              ]\n"
     ]
    },
    {
     "name": "stderr",
     "output_type": "stream",
     "text": [
      "/tmp/ipykernel_689/915565901.py:2: DeprecationWarning: Importing functions/classes of the qip submodule directly from the namespace qutip is deprecated. Please import them from the submodule instead, e.g.\n",
      "from qutip.qip.operations import cnot\n",
      "from qutip.qip.circuit import QubitCircuit\n",
      "\n",
      "  eigvals, eigvecs = qutip.hadamard_transform().eigenstates()\n"
     ]
    }
   ],
   "source": [
    "# find the eigenvectors of hadamard\n",
    "eigvals, eigvecs = qutip.hadamard_transform().eigenstates()\n",
    "print(eigvecs)"
   ]
  },
  {
   "cell_type": "code",
   "execution_count": 88,
   "metadata": {},
   "outputs": [
    {
     "name": "stdout",
     "output_type": "stream",
     "text": [
      "Quantum object: dims = [[2], [2]], shape = (2, 2), type = oper, isherm = True\n",
      "Qobj data =\n",
      "[[-0.70710678 -0.70710678]\n",
      " [-0.70710678  0.70710678]]\n"
     ]
    }
   ],
   "source": [
    "v1, v2 = eigvecs\n",
    "M = v1 * v1.dag() - v2 * v2.dag()\n",
    "print(M)"
   ]
  }
 ],
 "metadata": {
  "kernelspec": {
   "display_name": ".env",
   "language": "python",
   "name": "python3"
  },
  "language_info": {
   "codemirror_mode": {
    "name": "ipython",
    "version": 3
   },
   "file_extension": ".py",
   "mimetype": "text/x-python",
   "name": "python",
   "nbconvert_exporter": "python",
   "pygments_lexer": "ipython3",
   "version": "3.9.16"
  },
  "orig_nbformat": 4,
  "vscode": {
   "interpreter": {
    "hash": "93a70f4fe5e4f9f4a62ceb1c21676f7926f38842cebb0efc59281a3a53d3c981"
   }
  }
 },
 "nbformat": 4,
 "nbformat_minor": 2
}
